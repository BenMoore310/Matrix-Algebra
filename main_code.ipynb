{
 "cells": [
  {
   "cell_type": "code",
   "execution_count": 39,
   "metadata": {},
   "outputs": [],
   "source": [
    "import numpy as np\n",
    "import scipy as sp\n",
    "import matplotlib.pyplot as plt"
   ]
  },
  {
   "cell_type": "code",
   "execution_count": 40,
   "metadata": {},
   "outputs": [
    {
     "name": "stdout",
     "output_type": "stream",
     "text": [
      "Welcome, what size do you want your matrix?\n",
      "Generating your random 4x4 matrix...\n",
      "[[ -5   1  -7   5]\n",
      " [ -3 -10  -5   4]\n",
      " [ -4  -4  -1   5]\n",
      " [ -6  -9  -4   5]]\n"
     ]
    }
   ],
   "source": [
    "\n",
    "\n",
    "\n",
    "\n",
    "print('Welcome, what size do you want your matrix?')\n",
    "matrix_size = input()\n",
    "matrix_size = int(matrix_size)  #put in a limiter on matrix size\n",
    "print('Generating your random {}x{} matrix...'.format(matrix_size,matrix_size))\n",
    "random_matrix = np.random.randint(low= -10, high= 10, size = (matrix_size, matrix_size), dtype= int)\n",
    "#regenerate is first element is zero\n",
    "print(random_matrix)\n",
    "m = random_matrix\n"
   ]
  },
  {
   "cell_type": "code",
   "execution_count": 44,
   "metadata": {},
   "outputs": [
    {
     "name": "stdout",
     "output_type": "stream",
     "text": [
      "[]\n",
      "1.0\n",
      "[[-5]]\n",
      "-4.999999999999999\n",
      "[[ -5   1]\n",
      " [ -3 -10]]\n",
      "52.999999999999986\n",
      "[[ -5   1  -7]\n",
      " [ -3 -10  -5]\n",
      " [ -4  -4  -1]]\n",
      "262.99999999999983\n",
      "[[ -5   1  -7   5]\n",
      " [ -3 -10  -5   4]\n",
      " [ -4  -4  -1   5]\n",
      " [ -6  -9  -4   5]]\n",
      "-666.0000000000001\n"
     ]
    }
   ],
   "source": [
    "#need a block that calculates the determinants of leading sub matrices to check whether they have a zero determinant\n",
    "for i in range(0, matrix_size+1):\n",
    "    submatrix = random_matrix[0:i, 0:i]\n",
    "    print(submatrix)\n",
    "    sub_det = np.linalg.det(submatrix) #check whether using numpy for this is allowed\n",
    "    print(sub_det)\n",
    "    if sub_det == 0:\n",
    "        print('LU decomposition will not work for this matrix')\n",
    "        break\n",
    "\n",
    "    \n",
    "\n"
   ]
  },
  {
   "cell_type": "code",
   "execution_count": 42,
   "metadata": {},
   "outputs": [
    {
     "name": "stdout",
     "output_type": "stream",
     "text": [
      "-666.0000000000001\n"
     ]
    }
   ],
   "source": [
    "#verify whether LU decomposition of particular matrix is possible\n",
    "\n",
    "#brute force for 3x3 matrix\n",
    "\n",
    "if matrix_size == 3:\n",
    "    bdet = (m[0,0]*(m[1,1]*m[2,2]-m[2,1]*m[1,2])-(m[0,1]*(m[1,0]*m[2,2]-m[2,0]*m[1,2]))+(m[0,2]*(m[1,0]*m[2,1]-m[2,0]*m[1,1])))\n",
    "    print(bdet)\n",
    "print(np.linalg.det(m))\n",
    "\n",
    "#if det = 0 start again using loops"
   ]
  },
  {
   "cell_type": "code",
   "execution_count": 43,
   "metadata": {},
   "outputs": [
    {
     "name": "stdout",
     "output_type": "stream",
     "text": [
      "-5\n",
      "4\n",
      "[[ -5.    1.   -7.    5. ]\n",
      " [  0.  -10.6  -0.8   1. ]\n",
      " [  0.    0.    0.    0. ]\n",
      " [  0.    0.    0.    0. ]]\n",
      "[[1.         0.         0.         0.        ]\n",
      " [0.6        1.         0.         0.        ]\n",
      " [0.8        0.45283019 1.         0.        ]\n",
      " [1.2        0.96226415 0.         1.        ]]\n",
      "5\n",
      "[[ -5.           1.          -7.           5.        ]\n",
      " [  0.         -10.6         -0.8          1.        ]\n",
      " [  0.           0.           4.96226415   0.54716981]\n",
      " [  0.           0.           0.           0.        ]]\n",
      "[[1.         0.         0.         0.        ]\n",
      " [0.6        1.         0.         0.        ]\n",
      " [0.8        0.45283019 1.         0.        ]\n",
      " [1.2        0.96226415 1.0418251  1.        ]]\n",
      "[[ -5.           1.          -7.           5.        ]\n",
      " [  0.         -10.6         -0.8          1.        ]\n",
      " [  0.           0.           4.96226415   0.54716981]\n",
      " [  0.           0.           0.          -2.53231939]]\n",
      "[[1.         0.         0.         0.        ]\n",
      " [0.6        1.         0.         0.        ]\n",
      " [0.8        0.45283019 1.         0.        ]\n",
      " [1.2        0.96226415 1.0418251  1.        ]]\n",
      "Determinant = -665.9999999999999\n"
     ]
    }
   ],
   "source": [
    "#LU composition\n",
    "\n",
    "#initializing u and l matrices\n",
    "u =np.zeros((matrix_size, matrix_size))\n",
    "l =np.zeros((matrix_size, matrix_size))\n",
    "n = matrix_size\n",
    "\n",
    "for j in range(0, matrix_size): #first row of u\n",
    "    u[0,j] = m[0,j]\n",
    "#print(u)   \n",
    "\n",
    "\n",
    "for j in range(0, matrix_size):  #first collumn of l\n",
    "    l[j,0] = (m[j,0])/(u[0,0])\n",
    "    l[j][j] = 1\n",
    "\n",
    "#print(l)\n",
    "\n",
    "\n",
    "for i in range(1,matrix_size-1):\n",
    "    #print(i)\n",
    "    j=i+1\n",
    "    \n",
    "    if i == 1:  #u diagonal in case where i = 1 (2nd main diag element)\n",
    "        t=0\n",
    "        u[i][i] = m[i][i] - ((l[i][t])*(u[t][i]))\n",
    "    else: #all other cases of u element on main diagonal\n",
    "        initial_value_1 = m[i][i]\n",
    "        value_1 = 0\n",
    "        for t in range(0, i):\n",
    "            summation_1 = ((l[i][t])*(u[t][i]))\n",
    "            value_1 += summation_1\n",
    "        u[i][i] = initial_value_1 - value_1\n",
    "\n",
    "    for j in range(i+1, n):\n",
    "        initial_value_2 = m[i][j] #values of u off the main diagonal\n",
    "        print(initial_value_2)\n",
    "        value_2 = 0\n",
    "        for t in range(0, i):\n",
    "            # print(t)\n",
    "            summation_2 = ((l[i][t])*(u[t][j]))\n",
    "            value_2 += summation_2\n",
    "            # print(value_2)\n",
    "        u[i][j] = initial_value_2 - value_2\n",
    "\n",
    "    #values of l below main diagonal\n",
    "    for j in range(i+1, n):\n",
    "        initial_value_3 = m[j][i]\n",
    "        value_3 = 0\n",
    "        for t in range(0, i):\n",
    "            summation_3 = ((l[j][t])*(u[t][i]))\n",
    "            value_3 += summation_3\n",
    "        l[j][i] = (initial_value_3-value_3)/u[i][i]\n",
    "\n",
    "    print(u)\n",
    "    print(l)\n",
    "\n",
    "#final value m[n][n] of matrix\n",
    "initial_value_4 = m[n-1][n-1]\n",
    "value_4 = 0\n",
    "for t in range(0, n-1):\n",
    "    summation_4 = ((l[n-1][t])*(u[t][n-1]))\n",
    "    value_4 += summation_4\n",
    "    #print('value_4=', value_4)\n",
    "u[n-1][n-1] = initial_value_4 - value_4    \n",
    "\n",
    "\n",
    "print(u)\n",
    "print(l)\n",
    "\n",
    "final_sum = 1\n",
    "for i in range(0, n):\n",
    "    value = u[i][i]\n",
    "    final_sum = final_sum * value\n",
    "\n",
    "print('Determinant =', final_sum)\n",
    "\n"
   ]
  }
 ],
 "metadata": {
  "kernelspec": {
   "display_name": "Python 3.9.7 ('pebble_pred')",
   "language": "python",
   "name": "python3"
  },
  "language_info": {
   "codemirror_mode": {
    "name": "ipython",
    "version": 3
   },
   "file_extension": ".py",
   "mimetype": "text/x-python",
   "name": "python",
   "nbconvert_exporter": "python",
   "pygments_lexer": "ipython3",
   "version": "3.9.7"
  },
  "orig_nbformat": 4,
  "vscode": {
   "interpreter": {
    "hash": "94830630886e7d8e5ae798f226be19a5e9565c9d338a0b250eb417f4eee94a57"
   }
  }
 },
 "nbformat": 4,
 "nbformat_minor": 2
}
